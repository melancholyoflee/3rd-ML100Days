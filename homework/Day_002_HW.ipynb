{
 "cells": [
  {
   "cell_type": "code",
   "execution_count": null,
   "metadata": {},
   "outputs": [],
   "source": [
    "我覺得機器學習可以在研究商業模式發展很快速，因為商人有最多金錢和資料可以提供分析，\n",
    "加上現代人已經離不開網路，網路上到處都是使用者留下來資訊，而資料的關聯性因為資料巨大，\n",
    "需要機器學習幫助找出最佳的商業模式，設計出好的商業產品，讓商人得到最佳利益。"
   ]
  }
 ],
 "metadata": {
  "kernelspec": {
   "display_name": "Python 3",
   "language": "python",
   "name": "python3"
  },
  "language_info": {
   "codemirror_mode": {
    "name": "ipython",
    "version": 3
   },
   "file_extension": ".py",
   "mimetype": "text/x-python",
   "name": "python",
   "nbconvert_exporter": "python",
   "pygments_lexer": "ipython3",
   "version": "3.7.3"
  }
 },
 "nbformat": 4,
 "nbformat_minor": 2
}
