{
 "cells": [
  {
   "cell_type": "code",
   "execution_count": null,
   "metadata": {},
   "outputs": [],
   "source": [
    "Using Deep Learning to Inform Differential Diagnoses of Skin Diseases\n",
    "\n",
    "作業 1：目標\n",
    "提升皮膚科醫生診斷皮膚病能力\n",
    "作業 2：方法\n",
    "開發一個DLS系統，模仿醫師的想法，促進患者分類、診斷和治療\n",
    "，取得皮膚異常的一個或多個臨床圖像以及多達45種類型的原始數據，使用Inception-v4神經網絡架構處理多個圖像並與特徵轉換的元數據組合，\n",
    "以用於分類層，評估DLS的準確性，將其與基於美國三名經過董事會認證的皮膚科醫生診斷的嚴格參考標准進行了比較，\n",
    "將DLS的皮膚狀況排序列表與皮膚科醫生推導的鑑別診斷進行比較，分別達到71％和93％的前1和前3精度\n",
    "作業 3：資料來源\n",
    "1.\n",
    "https://ai.googleblog.com/"
   ]
  }
 ],
 "metadata": {
  "kernelspec": {
   "display_name": "Python 3",
   "language": "python",
   "name": "python3"
  },
  "language_info": {
   "codemirror_mode": {
    "name": "ipython",
    "version": 3
   },
   "file_extension": ".py",
   "mimetype": "text/x-python",
   "name": "python",
   "nbconvert_exporter": "python",
   "pygments_lexer": "ipython3",
   "version": "3.7.3"
  }
 },
 "nbformat": 4,
 "nbformat_minor": 2
}
